{
  "nbformat": 4,
  "nbformat_minor": 0,
  "metadata": {
    "colab": {
      "provenance": [],
      "authorship_tag": "ABX9TyOT3/l72XoY6Jhw6b8vvCcv",
      "include_colab_link": true
    },
    "kernelspec": {
      "name": "python3",
      "display_name": "Python 3"
    },
    "language_info": {
      "name": "python"
    }
  },
  "cells": [
    {
      "cell_type": "markdown",
      "metadata": {
        "id": "view-in-github",
        "colab_type": "text"
      },
      "source": [
        "<a href=\"https://colab.research.google.com/github/KayalvizhiT513/Eigen-Values-and-Vectors/blob/main/EigenValuesVectors_Notebook2.ipynb\" target=\"_parent\"><img src=\"https://colab.research.google.com/assets/colab-badge.svg\" alt=\"Open In Colab\"/></a>"
      ]
    },
    {
      "cell_type": "code",
      "source": [
        "import numpy as np\n",
        "import sympy as sp"
      ],
      "metadata": {
        "id": "HWZuMSRRdXAY"
      },
      "execution_count": 1,
      "outputs": []
    },
    {
      "cell_type": "code",
      "source": [
        "def replace_small_values(matrix, threshold=1e-10):\n",
        "    # Create a copy of the input matrix\n",
        "    new_matrix = np.array(matrix.copy())\n",
        "\n",
        "    # Replace values with absolute value >= threshold as 0\n",
        "    new_matrix[np.abs(new_matrix) <= threshold] = 0\n",
        "\n",
        "    return new_matrix"
      ],
      "metadata": {
        "id": "Co5orPp0vEnb"
      },
      "execution_count": 66,
      "outputs": []
    },
    {
      "cell_type": "code",
      "source": [
        "def eigen_values_vectors(M):\n",
        "    # Calculate eigenvalues and eigenvectors\n",
        "    eigenvalues, eigenvectors = np.linalg.eig(M)\n",
        "\n",
        "    # Print eigenvalues and eigenvectors\n",
        "    print(\"Eigenvalues:\", eigenvalues)\n",
        "    print(\"Eigenvectors:\")\n",
        "\n",
        "    # Concatenate eigenvectors into a matrix\n",
        "    eig_matrix = np.column_stack(eigenvectors)\n",
        "    eig_matrix = replace_small_values(eig_matrix)\n",
        "    print(eig_matrix)\n",
        "\n",
        "    np_rank = np.linalg.matrix_rank(eig_matrix)\n",
        "\n",
        "    eig_matrix_sympy = sp.Matrix(eig_matrix)\n",
        "\n",
        "    # Compute the reduced row echelon form (RREF)\n",
        "    rref = eig_matrix_sympy.rref()\n",
        "    print(\"RREF:\")\n",
        "    print(rref[0])\n",
        "\n",
        "    # Find the rank of the matrix\n",
        "    rank = eig_matrix_sympy.rank()\n",
        "    print(\"Rank of the RREF:\", rank)\n",
        "\n",
        "    # Check if eigenvectors are linearly independent\n",
        "    if rank == min(M.shape):\n",
        "        print(\"The eigenvectors corresponding to distinct eigenvalues are linearly independent.\")\n",
        "    else:\n",
        "        print(\"The eigenvectors corresponding to distinct eigenvalues are linearly dependent.\")\n"
      ],
      "metadata": {
        "id": "PgqKljJZaTAc"
      },
      "execution_count": 81,
      "outputs": []
    },
    {
      "cell_type": "markdown",
      "source": [
        "Eigenvectors corresponding to distinct eigenvalues are linearly independent\n"
      ],
      "metadata": {
        "id": "QLeaUZNA0ylC"
      }
    },
    {
      "cell_type": "code",
      "source": [
        " # Define the matrix A\n",
        "A = np.array([[5, 2, 0],\n",
        "      [2, 5, 0],\n",
        "      [-3, 4, 6]])\n",
        "eigen_values_vectors(A)"
      ],
      "metadata": {
        "colab": {
          "base_uri": "https://localhost:8080/"
        },
        "id": "nOeNX7gOjJ65",
        "outputId": "94b3ae64-fd49-4bed-a7b9-d5edc2484195"
      },
      "execution_count": 82,
      "outputs": [
        {
          "output_type": "stream",
          "name": "stdout",
          "text": [
            "Eigenvalues: [6. 7. 3.]\n",
            "Eigenvectors:\n",
            "[[ 0.          0.          1.        ]\n",
            " [ 0.57735027  0.57735027  0.57735027]\n",
            " [ 0.36650833 -0.36650833  0.85518611]]\n",
            "RREF:\n",
            "Matrix([[1, 0, 0], [0, 1, 0], [0, 0, 1]])\n",
            "Rank of the RREF: 3\n",
            "The eigenvectors corresponding to distinct eigenvalues are linearly independent.\n"
          ]
        }
      ]
    },
    {
      "cell_type": "code",
      "source": [
        "# Define the matrix A\n",
        "A1 = np.array([[2, 1, 0],\n",
        "               [1, 3, -1],\n",
        "               [0, -1, 4]])\n",
        "eigen_values_vectors(A1)"
      ],
      "metadata": {
        "colab": {
          "base_uri": "https://localhost:8080/"
        },
        "id": "uXBY5Fe9jKjh",
        "outputId": "8ccc9b47-50cc-464c-c8eb-9c0657b0568a"
      },
      "execution_count": 83,
      "outputs": [
        {
          "output_type": "stream",
          "name": "stdout",
          "text": [
            "Eigenvalues: [1.26794919 3.         4.73205081]\n",
            "Eigenvectors:\n",
            "[[-0.78867513  0.57735027  0.21132487]\n",
            " [-0.57735027 -0.57735027 -0.57735027]\n",
            " [-0.21132487 -0.57735027  0.78867513]]\n",
            "RREF:\n",
            "Matrix([[1, 0, 0], [0, 1, 0], [0, 0, 1]])\n",
            "Rank of the RREF: 3\n",
            "The eigenvectors corresponding to distinct eigenvalues are linearly independent.\n"
          ]
        }
      ]
    },
    {
      "cell_type": "markdown",
      "source": [
        "Two different eigenvectors corresponding to the same eigenvalue are not always linearly dependent"
      ],
      "metadata": {
        "id": "8PE95rjd1aek"
      }
    },
    {
      "cell_type": "code",
      "source": [
        "B1 = np.array([[2, 1],\n",
        "               [0, 2]])\n",
        "eigen_values_vectors(B1)"
      ],
      "metadata": {
        "colab": {
          "base_uri": "https://localhost:8080/"
        },
        "id": "zxO-SnG_ci2o",
        "outputId": "ba2ab55c-40d9-4815-aa5a-f1867b81ab2b"
      },
      "execution_count": 84,
      "outputs": [
        {
          "output_type": "stream",
          "name": "stdout",
          "text": [
            "Eigenvalues: [2. 2.]\n",
            "Eigenvectors:\n",
            "[[ 1.  0.]\n",
            " [-1.  0.]]\n",
            "RREF:\n",
            "Matrix([[1, 0], [0, 0]])\n",
            "Rank of the RREF: 1\n",
            "The eigenvectors corresponding to distinct eigenvalues are linearly dependent.\n"
          ]
        }
      ]
    },
    {
      "cell_type": "code",
      "source": [
        "B2 = np.array([[2, 0],\n",
        "               [0, 2]])\n",
        "eigen_values_vectors(B2)"
      ],
      "metadata": {
        "id": "6Lv8NkvDdwaM",
        "colab": {
          "base_uri": "https://localhost:8080/"
        },
        "outputId": "0958c3f6-018c-4974-8697-f20793a56975"
      },
      "execution_count": 85,
      "outputs": [
        {
          "output_type": "stream",
          "name": "stdout",
          "text": [
            "Eigenvalues: [2. 2.]\n",
            "Eigenvectors:\n",
            "[[1. 0.]\n",
            " [0. 1.]]\n",
            "RREF:\n",
            "Matrix([[1, 0], [0, 1]])\n",
            "Rank of the RREF: 2\n",
            "The eigenvectors corresponding to distinct eigenvalues are linearly independent.\n"
          ]
        }
      ]
    },
    {
      "cell_type": "code",
      "source": [],
      "metadata": {
        "id": "QeEXVJy-q01P"
      },
      "execution_count": null,
      "outputs": []
    }
  ]
}